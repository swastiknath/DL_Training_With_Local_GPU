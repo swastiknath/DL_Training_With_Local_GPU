{
 "cells": [
  {
   "cell_type": "code",
   "execution_count": 28,
   "metadata": {},
   "outputs": [
    {
     "name": "stdout",
     "output_type": "stream",
     "text": [
      "Writing working_with_gpu.py\n"
     ]
    }
   ],
   "source": [
    "%%writefile working_with_gpu.py\n",
    "pip install virtualenv\n",
    "python3 -m plaidml-venv source plaidml-venv/bin/activate\n",
    "pip install -U plaidml-keras\n",
    "plaidml-setup"
   ]
  },
  {
   "cell_type": "code",
   "execution_count": 29,
   "metadata": {},
   "outputs": [
    {
     "name": "stdout",
     "output_type": "stream",
     "text": [
      "Appending to working_with_gpu.py\n"
     ]
    }
   ],
   "source": [
    "%%writefile -a working_with_gpu.py\n",
    "import plaidml.keras\n",
    "plaidml.keras.install_backend()\n",
    "import os\n",
    "os.environ['KERAS_BACKEND']=\"plaidml.keras.backend\""
   ]
  },
  {
   "cell_type": "code",
   "execution_count": 30,
   "metadata": {},
   "outputs": [
    {
     "name": "stdout",
     "output_type": "stream",
     "text": [
      "Appending to working_with_gpu.py\n"
     ]
    }
   ],
   "source": [
    "%%writefile -a working_with_gpu.py\n",
    "import keras \n",
    "from keras.models import Sequential\n",
    "from keras.layers import Dense, Dropout, Flatten, Conv2D, MaxPooling2D\n",
    "from keras import backend as k"
   ]
  },
  {
   "cell_type": "code",
   "execution_count": 31,
   "metadata": {},
   "outputs": [
    {
     "name": "stdout",
     "output_type": "stream",
     "text": [
      "Appending to working_with_gpu.py\n"
     ]
    }
   ],
   "source": [
    "%%writefile -a working_with_gpu.py\n",
    "fashion_mnist = keras.datasets.fashion_mnist\n",
    "(x_train, y_train), (x_test, y_test) = keras.datasets.fashion_mnist.load_data()\n",
    "print(x_train.shape)\n",
    "print(x_test.shape)\n",
    "print(y_train.shape)\n",
    "print(y_test.shape)"
   ]
  },
  {
   "cell_type": "code",
   "execution_count": 32,
   "metadata": {},
   "outputs": [
    {
     "name": "stdout",
     "output_type": "stream",
     "text": [
      "Appending to working_with_gpu.py\n"
     ]
    }
   ],
   "source": [
    "%%writefile -a working_with_gpu.py\n",
    "#normalizing the data so that all values remain in the same interval\n",
    "x_train = x_train.astype('float32').reshape(60000, 28, 28,1)/255\n",
    "x_test = x_test.astype('float32').reshape(10000, 28, 28,1)/255"
   ]
  },
  {
   "cell_type": "code",
   "execution_count": 33,
   "metadata": {},
   "outputs": [
    {
     "name": "stdout",
     "output_type": "stream",
     "text": [
      "Appending to working_with_gpu.py\n"
     ]
    }
   ],
   "source": [
    "%%writefile -a working_with_gpu.py\n",
    "model = keras.Sequential()\n",
    "model.add(Conv2D(filters=64, kernel_size=2, padding='same', activation='relu', input_shape=(28,28,1)))\n",
    "model.add(MaxPooling2D(pool_size=2))\n",
    "model.add(Dropout(0.3))\n",
    "model.add(Conv2D(filters=32, kernel_size=2, activation='relu', padding='same'))\n",
    "model.add(MaxPooling2D(pool_size=2))\n",
    "model.add(Dropout(0.3))\n",
    "model.add(Flatten())\n",
    "model.add(Dense(256, activation='relu'))\n",
    "model.add(Dropout(0.5))\n",
    "model.add(Dense(10, activation='softmax'))\n",
    "model.summary()"
   ]
  },
  {
   "cell_type": "code",
   "execution_count": 34,
   "metadata": {},
   "outputs": [
    {
     "name": "stdout",
     "output_type": "stream",
     "text": [
      "Appending to working_with_gpu.py\n"
     ]
    }
   ],
   "source": [
    "%%writefile -a working_with_gpu.py\n",
    "model.compile(optimizer='adam', loss=keras.losses.sparse_categorical_crossentropy, metrics=['accuracy'])"
   ]
  },
  {
   "cell_type": "code",
   "execution_count": 35,
   "metadata": {},
   "outputs": [
    {
     "name": "stdout",
     "output_type": "stream",
     "text": [
      "Appending to working_with_gpu.py\n"
     ]
    }
   ],
   "source": [
    "%%writefile -a working_with_gpu.py\n",
    "model.fit(x_train, y_train, batch_size=64, epochs=10)\n",
    "score=model.evaluate(x_test, y_test, verbose=1)\n",
    "print('\\n', 'Test Accuracy: ', score[1])"
   ]
  },
  {
   "cell_type": "code",
   "execution_count": null,
   "metadata": {},
   "outputs": [],
   "source": []
  }
 ],
 "metadata": {
  "kernelspec": {
   "display_name": "Python 3",
   "language": "python",
   "name": "python3"
  },
  "language_info": {
   "codemirror_mode": {
    "name": "ipython",
    "version": 3
   },
   "file_extension": ".py",
   "mimetype": "text/x-python",
   "name": "python",
   "nbconvert_exporter": "python",
   "pygments_lexer": "ipython3",
   "version": "3.7.4"
  }
 },
 "nbformat": 4,
 "nbformat_minor": 4
}
